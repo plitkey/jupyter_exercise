{
 "cells": [
  {
   "cell_type": "markdown",
   "id": "09b548bb-16a5-4fd6-ad24-6ce5568e8fb7",
   "metadata": {},
   "source": [
    "# Calculating pi using Monte Carlo methods"
   ]
  },
  {
   "cell_type": "markdown",
   "id": "cf04591c-0620-4482-908e-9b0edbf072d8",
   "metadata": {},
   "source": [
    "## Relevant formulas\n",
    "\n",
    "- square area: $s = (2 r)^2$\n",
    "- circle area: $c = \\pi r^2$\n",
    "- $c/s = (\\pi r^2) / (4 r^2) = \\pi / 4$\n",
    "- $\\pi = 4 * c/s$\n"
   ]
  },
  {
   "cell_type": "code",
   "execution_count": 16,
   "id": "198ef94a-76de-4dc3-bb3a-81ecc9e83412",
   "metadata": {},
   "outputs": [
    {
     "name": "stdout",
     "output_type": "stream",
     "text": [
      "/bin/bash: -c: line 0: syntax error near unexpected token `https://raw.githubusercontent.com/coderefinery/jupyter/main/example/darts.svg'\n",
      "/bin/bash: -c: line 0: `[Darts](https://raw.githubusercontent.com/coderefinery/jupyter/main/example/darts.svg)'\n"
     ]
    }
   ],
   "source": [
    "## Image to visualize the concept\n",
    "\n",
    "![Darts](https://raw.githubusercontent.com/coderefinery/jupyter/main/example/darts.svg)"
   ]
  },
  {
   "cell_type": "code",
   "execution_count": 17,
   "id": "821398b2-4be4-4b1b-a51e-23f4fb566808",
   "metadata": {},
   "outputs": [],
   "source": [
    "# importing modules that we will need\n",
    "\n",
    "import random\n",
    "import matplotlib.pyplot as plt"
   ]
  },
  {
   "cell_type": "code",
   "execution_count": 18,
   "id": "6e9a6b4e-c605-46f9-a173-5756af8787a2",
   "metadata": {},
   "outputs": [],
   "source": [
    "# initializing the number of \"throws\"\n",
    "\n",
    "num_points = 50000"
   ]
  },
  {
   "cell_type": "code",
   "execution_count": 23,
   "id": "3c6fee42-42ac-4a28-9218-965a9636d27f",
   "metadata": {},
   "outputs": [],
   "source": [
    "# here we \"throw darts\" and count the number of hits\n",
    "\n",
    "points = []\n",
    "hits = 0\n",
    "for _ in range(num_points):\n",
    "    x, y = random.random(), random.random()\n",
    "    if x*x + y*y < 1.0:\n",
    "        hits += 1\n",
    "        points.append((x, y, \"red\"))\n",
    "    else:\n",
    "        points.append((x, y, \"blue\"))\n"
   ]
  },
  {
   "cell_type": "code",
   "execution_count": 24,
   "id": "6dffd8b8-4c11-4983-9e7b-ce5451dfd5d8",
   "metadata": {},
   "outputs": [
    {
     "data": {
      "text/plain": [
       "<matplotlib.collections.PathCollection at 0x7f9ccae92460>"
      ]
     },
     "execution_count": 24,
     "metadata": {},
     "output_type": "execute_result"
    },
    {
     "data": {
      "image/png": "[encoded data removed]",
      "text/plain": [
       "<Figure size 432x432 with 1 Axes>"
      ]
     },
     "metadata": {
      "needs_background": "light"
     },
     "output_type": "display_data"
    }
   ],
   "source": [
    "# unzip points into 3 lists\n",
    "x, y, colors = zip(*points)\n",
    "\n",
    "# define figure dimensions\n",
    "fig, ax = plt.subplots()\n",
    "fig.set_size_inches(6.0, 6.0)\n",
    "\n",
    "# plot results\n",
    "ax.scatter(x, y, c=colors)\n"
   ]
  },
  {
   "cell_type": "code",
   "execution_count": 21,
   "id": "bad06048-1815-4ea0-bccf-17172b6824b9",
   "metadata": {},
   "outputs": [
    {
     "data": {
      "text/plain": [
       "3.14616"
      ]
     },
     "execution_count": 21,
     "metadata": {},
     "output_type": "execute_result"
    }
   ],
   "source": [
    "# compute and print the estimate\n",
    "\n",
    "fraction = hits / num_points\n",
    "4 * fraction"
   ]
  },
  {
   "cell_type": "code",
   "execution_count": 22,
   "id": "d87c6ded-89b1-4a73-a8db-447a3dab2fbb",
   "metadata": {},
   "outputs": [],
   "source": [
    "num_points = 20000"
   ]
  },
  {
   "cell_type": "code",
   "execution_count": null,
   "id": "3bbebac6-0c32-4b10-88e4-ce76658627b5",
   "metadata": {},
   "outputs": [],
   "source": []
  }
 ],
 "metadata": {
  "kernelspec": {
   "display_name": "Python 3",
   "language": "python",
   "name": "python3"
  },
  "language_info": {
   "codemirror_mode": {
    "name": "ipython",
    "version": 3
   },
   "file_extension": ".py",
   "mimetype": "text/x-python",
   "name": "python",
   "nbconvert_exporter": "python",
   "pygments_lexer": "ipython3",
   "version": "3.9.2"
  }
 },
 "nbformat": 4,
 "nbformat_minor": 5
}
